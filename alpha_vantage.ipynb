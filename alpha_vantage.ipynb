{
 "cells": [
  {
   "cell_type": "code",
   "execution_count": 1,
   "metadata": {},
   "outputs": [],
   "source": [
    "api_key = '336JCXKV5LBZL165'"
   ]
  },
  {
   "cell_type": "code",
   "execution_count": 2,
   "metadata": {},
   "outputs": [],
   "source": [
    "import pandas as pd\n",
    "import time\n",
    "from alpha_vantage.timeseries import TimeSeries"
   ]
  },
  {
   "cell_type": "code",
   "execution_count": 3,
   "metadata": {},
   "outputs": [],
   "source": [
    "ts = TimeSeries(key=api_key, output_format = 'pandas')"
   ]
  },
  {
   "cell_type": "code",
   "execution_count": 4,
   "metadata": {},
   "outputs": [],
   "source": [
    "data, meta_data = ts.get_intraday(symbol = 'GOOGL', interval = \"1min\", outputsize = 'full' )"
   ]
  },
  {
   "cell_type": "code",
   "execution_count": 5,
   "metadata": {},
   "outputs": [
    {
     "name": "stdout",
     "output_type": "stream",
     "text": [
      "                     1. open  2. high   3. low  4. close  5. volume\n",
      "date                                                               \n",
      "2020-08-13 18:01:00  1518.00  1518.00  1518.00   1518.00      379.0\n",
      "2020-08-13 16:41:00  1517.33  1517.33  1517.33   1517.33      414.0\n",
      "2020-08-13 16:40:00  1517.41  1517.41  1517.41   1517.41      100.0\n",
      "2020-08-13 16:33:00  1516.65  1516.65  1516.65   1516.65      766.0\n",
      "2020-08-13 16:17:00  1516.65  1516.65  1516.65   1516.65     1080.0\n",
      "...                      ...      ...      ...       ...        ...\n",
      "2020-07-31 04:45:00  1544.98  1544.98  1544.98   1544.98      206.0\n",
      "2020-07-31 04:44:00  1547.77  1547.77  1546.25   1546.25      732.0\n",
      "2020-07-31 04:43:00  1548.25  1548.25  1548.07   1548.07      877.0\n",
      "2020-07-31 04:42:00  1548.02  1548.02  1548.02   1548.02      434.0\n",
      "2020-07-31 04:03:00  1547.15  1547.15  1547.15   1547.15      125.0\n",
      "\n",
      "[4015 rows x 5 columns]\n"
     ]
    }
   ],
   "source": [
    "print(data)"
   ]
  },
  {
   "cell_type": "code",
   "execution_count": 6,
   "metadata": {},
   "outputs": [],
   "source": [
    "#while True:\n",
    "#    data, meta_data = ts.get_intraday(symbol = 'MSFT', interval = \"1min\", outputsize = 'full' )\n",
    "#    data.to_excel(\"output.xlsx\")\n",
    "#    time.sleep(60)"
   ]
  },
  {
   "cell_type": "code",
   "execution_count": 7,
   "metadata": {},
   "outputs": [
    {
     "name": "stdout",
     "output_type": "stream",
     "text": [
      "date\n",
      "2020-08-13 18:01:00         NaN\n",
      "2020-08-13 16:41:00   -0.000441\n",
      "2020-08-13 16:40:00    0.000053\n",
      "2020-08-13 16:33:00   -0.000501\n",
      "2020-08-13 16:17:00    0.000000\n",
      "                         ...   \n",
      "2020-07-31 04:45:00    0.001127\n",
      "2020-07-31 04:44:00    0.000822\n",
      "2020-07-31 04:43:00    0.001177\n",
      "2020-07-31 04:42:00   -0.000032\n",
      "2020-07-31 04:03:00   -0.000562\n",
      "Name: 4. close, Length: 4015, dtype: float64\n"
     ]
    }
   ],
   "source": [
    "close_data = data['4. close']\n",
    "percentage_change = close_data.pct_change()\n",
    "print(percentage_change)"
   ]
  },
  {
   "cell_type": "code",
   "execution_count": 8,
   "metadata": {},
   "outputs": [],
   "source": [
    "last_change = percentage_change[-1]\n"
   ]
  },
  {
   "cell_type": "code",
   "execution_count": 10,
   "metadata": {},
   "outputs": [
    {
     "name": "stdout",
     "output_type": "stream",
     "text": [
      "Google Alert:-0.000562008242787515\n"
     ]
    }
   ],
   "source": [
    "if abs(last_change) > 0.0004:\n",
    "    print(\"Google Alert:\" + str(last_change))"
   ]
  },
  {
   "cell_type": "code",
   "execution_count": null,
   "metadata": {},
   "outputs": [],
   "source": []
  }
 ],
 "metadata": {
  "kernelspec": {
   "display_name": "Python 3",
   "language": "python",
   "name": "python3"
  },
  "language_info": {
   "codemirror_mode": {
    "name": "ipython",
    "version": 3
   },
   "file_extension": ".py",
   "mimetype": "text/x-python",
   "name": "python",
   "nbconvert_exporter": "python",
   "pygments_lexer": "ipython3",
   "version": "3.7.6"
  }
 },
 "nbformat": 4,
 "nbformat_minor": 4
}
